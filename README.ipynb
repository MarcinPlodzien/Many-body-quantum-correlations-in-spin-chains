{
 "cells": [
  {
   "cell_type": "markdown",
   "id": "1c0a675f",
   "metadata": {},
   "source": [
    "# Supplementary materials for Generation of many-body quantum correlations in spin chains"
   ]
  },
  {
   "cell_type": "markdown",
   "id": "a7777601",
   "metadata": {},
   "source": [
    "In this section, we provide an analytical expression for correlator ${\\cal E}^{(q)}_N$ for a fixed number of spins $N$ and fixed range $r$ as a function of time $\\tau$, during the one-axis twisting procedure.\n",
    "\n",
    "\n",
    "In the following, we work in the spin Fock basis constructed from the product of eigenstates of $\\hat{\\sigma}_z^{(i)}$ operator, $i\\in \\{1,\\dots,N\\}$, denoted as $|\\vec{s}_v\\rangle$, $v\\in \\{1,\\dots,2^N\\}$. In particular $|\\vec{s}_1\\rangle$ is state with all spins-up, while $|\\vec{s}_{2^N}\\rangle$ is state with all spins-down.\n",
    "\n",
    "\n",
    "\n",
    "We focus on the evolution of the many-body Bell correlator during the one-axis twisting evolution, i.e.\n",
    "\\begin{equation}\\label{eq:Epsilon}\n",
    "\\begin{split}\n",
    " {\\cal E}^{(q)}_{N}(\\tau) & = |\\langle\\psi_{\\rm in}| e^{i \\hat{H} t} \\hat{{\\cal E}} e^{-i\\hat{H}\\tau} |\\psi_{\\rm in}\\rangle|^2   = |\\langle\\psi(\\tau)| \\hat{{\\cal E}}  |\\psi(\\tau)\\rangle|^2,\n",
    " \\end{split}\n",
    "\\end{equation}\n",
    "where $\\hat{\\cal E} = \\hat{\\sigma}^{(1)}_+\\dots\\hat{\\sigma}^{(N)}$,\n",
    "while $|\\psi_{\\rm in}\\rangle$ is a spin coherent state $|\\psi_{\\rm in}\\rangle = \\hat{R} |\\vec{s}_1\\rangle = 2^{-N/2}\\sum_{v=1}^{2^N}|\\vec{s}_v\\rangle$, where $\\hat{R} = e^{-i\\frac{\\pi}{4}\\sum_j\\hat{\\sigma}_y^{(j)}}$ is $\\pi/2$ rotation operator about $y$-axis. Because the Hamiltonian $\\hat{H}$ is diagonal in the Fock basis,  we can write $|\\psi(\\tau)\\rangle$ as:\n",
    "\\begin{equation}\n",
    "    |\\psi(\\tau)\\rangle = 2^{-N/2}\\sum_{v=1}^{2^N} e^{-i h_v \\tau} |\\vec{s}_v\\rangle,\n",
    "\\end{equation}\n",
    "where   $h_v = [\\hat{H}]_{v,v}$ is $k$th diagonal element of the matrix representation of the Hamiltonian $\\hat{H}$."
   ]
  },
  {
   "cell_type": "markdown",
   "id": "fc3c7c16",
   "metadata": {},
   "source": [
    "Now, let us focus on the matrix representation of the correlator $\\hat{{\\cal E}}$ after $\\pi/2$-rotation about $y$-axis, i.e.\n",
    "\\begin{equation}\n",
    " \\hat{{\\cal E}}^{\\rm rot} = \\hat{R}^\\dagger\\hat{{\\cal E}}\\hat{R} = (-1)^{N/2} |\\vec{s}_1\\rangle\\langle\\vec{s}_{2^N}|,\n",
    "\\end{equation}\n",
    "which has only one non-vanishing term $[\\hat{\\cal E}^{\\rm rot}]_{v,w} = (-1)^{N/2}\\delta_{v,1}\\delta_{w,2^N}$,\n",
    "which couples the Fock state with all spins-up and the state with all spins-down.\n",
    "Inversing the transformation, we can write matrix elements of the many-body correlator in the Fock basis as:\n",
    "\\begin{equation}\n",
    "\\begin{split}\n",
    " [\\hat{\\cal E}]_{n,m} & = \\sum_{v,w=1}^{2^N} \\hat{R}_{n,v}[\\hat{\\cal E}^{\\rm rot}]_{v,w}\\hat{R}^\\dagger_{l,w} = (-1)^{N/2}[\\hat{R}]_{n,1}[\\hat{R}^\\dagger]_{2^N,m}.\n",
    "\\end{split}\n",
    "\\end{equation}\n",
    "\n",
    "One can notice that in the matrix representation of $\\hat{\\cal E}$, all rows are identical, so in the following, we can consider the first row only setting $n=1$. Next, noticing that $[\\hat{P}]_{1,1} = 2^{-N/2}$ we have \n",
    "\\begin{equation}\n",
    " \\hat{\\cal E}_{1,m} = (-1)^{N/2}[\\hat{P}]_{1,1}[\\hat{P}^\\dagger]_{2^N,m}.\n",
    "\\end{equation}\n",
    "\n",
    "Finally, one can observe that $[\\hat{P}]_{1,1} =  2^{-N/2}$, which leads to\n",
    "\\begin{equation}\n",
    " \\hat{\\cal E}_{1,m} =  (-1)^{N/2}  2^{-N/2} %[\\hat{P}^{\\dagger}]_{2^N,m}.\n",
    "\\end{equation}\n",
    "By extracting the multiplicative factor $2^{-N/2}$ from the matrix representation of the $\\hat{R}^\\dagger$ we write $\\hat{R}^\\dagger = 2^{-N/2} \\hat{F}$\n",
    "where matrix representation of $\\hat{F}$ contains only $\\pm 1$ terms, so $\\hat{\\cal E}_{1,w} =  (-1)^{N/2}  2^{-N} [\\hat{F}]_{2^N,w}.$ \n",
    "Finally, considering all the above, we can write\n",
    "\\begin{equation}\n",
    "\\begin{split}\n",
    " {\\cal E}^{(q)}_{N}(\\tau) & = |\\langle\\psi(\\tau)| \\hat{\\cal E} |\\psi(\\tau)\\rangle|^2 = 2^{-4N} |\\epsilon(\\tau)|^2,\\\\\n",
    " \\epsilon(\\tau) & = \\sum_{v,w = 1}^{2^N} [\\hat{F}]_{2^N,w} e^{i(h_v-h_w)\\tau}.\n",
    "  \\end{split}\n",
    "\\end{equation}\n",
    "The above analysis allows the extraction of an analytical form of the correlator for fixed system size $N$ and interaction range $r$ in a closed, although long, form \\cite{notebook_2}.\n",
    "Finally, we can also write \n",
    "\\begin{equation}\n",
    "    Q_N(\\tau) = \\log_2(2^N {\\cal E}^{(q)}_N(\\tau)) = -3N + 2\\log_2|\\epsilon(\\tau)|.\n",
    "\\end{equation} \n"
   ]
  },
  {
   "cell_type": "code",
   "execution_count": null,
   "id": "ab17ff20",
   "metadata": {},
   "outputs": [],
   "source": []
  }
 ],
 "metadata": {
  "kernelspec": {
   "display_name": "Python 3 (ipykernel)",
   "language": "python",
   "name": "python3"
  }
 },
 "nbformat": 4,
 "nbformat_minor": 5
}
